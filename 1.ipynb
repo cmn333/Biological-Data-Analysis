{
 "cells": [
  {
   "cell_type": "code",
   "execution_count": 1,
   "id": "82bfe020",
   "metadata": {},
   "outputs": [
    {
     "name": "stdout",
     "output_type": "stream",
     "text": [
      "Point1\n",
      "Enter X1 Coordiante:4\n",
      "Enter Y1 Coordiante:6\n",
      "Point1\n",
      "Enter X2 Coordiante:8\n",
      "Enter Y2 Coordiante:10\n",
      "Distance between the two points is as follows (4, 6)(8, 10) = 5.656854249492381\n"
     ]
    }
   ],
   "source": [
    "import math\n",
    "print (\"Point1\")\n",
    "x1 = int(input(\"Enter X1 Coordiante:\"))\n",
    "y1 = int(input(\"Enter Y1 Coordiante:\"))\n",
    "print (\"Point1\")\n",
    "x2 = int(input(\"Enter X2 Coordiante:\"))\n",
    "y2 = int(input(\"Enter Y2 Coordiante:\"))\n",
    "\n",
    "distance = ((x2 - x1) ** 2 + (y2 - y1) ** 2) ** 0.5\n",
    "print(f\"Distance between the two points is as follows {x1 ,y1}{x2 ,y2} = {distance}\")"
   ]
  },
  {
   "cell_type": "code",
   "execution_count": 2,
   "id": "049f602c",
   "metadata": {},
   "outputs": [
    {
     "name": "stdout",
     "output_type": "stream",
     "text": [
      "X\tY\tX**Y\n",
      "10\t2\t100\n",
      "10\t3\t1000\n",
      "10\t4\t10000\n",
      "10\t5\t100000\n"
     ]
    }
   ],
   "source": [
    "x = 10\n",
    "print(\"X\\tY\\tX**Y\")\n",
    "\n",
    "for y in range(2,6):\n",
    "    power = x ** y\n",
    "    print(f\"{x}\\t{y}\\t{power}\")"
   ]
  },
  {
   "cell_type": "code",
   "execution_count": 3,
   "id": "dbe63421",
   "metadata": {},
   "outputs": [
    {
     "name": "stdout",
     "output_type": "stream",
     "text": [
      "請輸入身高(公分): 165\n",
      "請輸入體重(公斤): 50\n",
      "身高 165 公分、體重 50 公斤的 BMI 為 18.36547291092746\n"
     ]
    }
   ],
   "source": [
    "h = int(input(\"Please enter your height (in centimeters): \"))\n",
    "w = int(input(\"Please enter your weight (in kilograms): \"))\n",
    "\n",
    "h_m = h / 100\n",
    "bmi = w / (h_m ** 2)\n",
    "\n",
    "print(f\"For a height of {h} centimeters and weight of {w} kilograms, the BMI is {bmi}\")"
   ]
  },
  {
   "cell_type": "code",
   "execution_count": null,
   "id": "0d964e60",
   "metadata": {},
   "outputs": [],
   "source": []
  }
 ],
 "metadata": {
  "kernelspec": {
   "display_name": "Python 3 (ipykernel)",
   "language": "python",
   "name": "python3"
  },
  "language_info": {
   "codemirror_mode": {
    "name": "ipython",
    "version": 3
   },
   "file_extension": ".py",
   "mimetype": "text/x-python",
   "name": "python",
   "nbconvert_exporter": "python",
   "pygments_lexer": "ipython3",
   "version": "3.11.4"
  }
 },
 "nbformat": 4,
 "nbformat_minor": 5
}
