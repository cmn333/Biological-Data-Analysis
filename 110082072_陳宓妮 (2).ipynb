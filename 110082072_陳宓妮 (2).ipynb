{
 "cells": [
  {
   "cell_type": "markdown",
   "id": "86484636",
   "metadata": {},
   "source": [
    "1."
   ]
  },
  {
   "cell_type": "code",
   "execution_count": 8,
   "id": "e434a6fd",
   "metadata": {},
   "outputs": [
    {
     "name": "stdout",
     "output_type": "stream",
     "text": [
      "請輸入第一科成績: 61\n",
      "請輸入第二科成績: 59\n",
      "請輸入第三科成績: 62\n",
      "請輸入第四科成績: 58\n",
      "請輸入第五科成績: 60\n",
      "成績對應等級為: Pass\n"
     ]
    }
   ],
   "source": [
    "s1 = int(input(\"請輸入第一科成績: \"))\n",
    "s2 = int(input(\"請輸入第二科成績: \"))\n",
    "s3 = int(input(\"請輸入第三科成績: \"))\n",
    "s4 = int(input(\"請輸入第四科成績: \"))\n",
    "s5 = int(input(\"請輸入第五科成績: \"))\n",
    "\n",
    "avg = (s1 + s2 + s3 + s4 + s5) / 5\n",
    "\n",
    "if avg >= 90:\n",
    "    m = \"Distinction\"\n",
    "elif avg >= 80:\n",
    "    m = \"First class\"\n",
    "elif avg >= 70:\n",
    "    m = \"Second class\"\n",
    "elif avg >= 60:\n",
    "    m = \"Pass\"\n",
    "else:\n",
    "    m = \"Fail\"\n",
    "\n",
    "print(f\"成績對應等級為: {m}\")"
   ]
  },
  {
   "cell_type": "markdown",
   "id": "90cf9dd7",
   "metadata": {},
   "source": [
    "2."
   ]
  },
  {
   "cell_type": "code",
   "execution_count": 11,
   "id": "05a492b1",
   "metadata": {},
   "outputs": [
    {
     "name": "stdout",
     "output_type": "stream",
     "text": [
      "The sum of numbers from 1 to 20 which is divisible by 5: 50\n"
     ]
    }
   ],
   "source": [
    "total = 0\n",
    "x = 1\n",
    "\n",
    "while x <= 20:\n",
    "    if x % 5 == 0:\n",
    "        total += x\n",
    "    x += 1\n",
    "\n",
    "print(\"The sum of numbers from 1 to 20 which is divisible by 5:\", total)"
   ]
  },
  {
   "cell_type": "markdown",
   "id": "d6098874",
   "metadata": {},
   "source": [
    "3."
   ]
  },
  {
   "cell_type": "code",
   "execution_count": 9,
   "id": "f9d953aa",
   "metadata": {},
   "outputs": [
    {
     "name": "stdout",
     "output_type": "stream",
     "text": [
      "Enter the number：6\n",
      "Factorial of 6 : 720\n"
     ]
    }
   ],
   "source": [
    "x = int(input(\"Enter the number：\"))\n",
    "\n",
    "total = 1\n",
    "y = x\n",
    "\n",
    "while x > 0:\n",
    "        total *= x\n",
    "        x -= 1\n",
    "\n",
    "print(f\"Factorial of {y} :\", total)"
   ]
  },
  {
   "cell_type": "markdown",
   "id": "90d55609",
   "metadata": {},
   "source": [
    "4."
   ]
  },
  {
   "cell_type": "code",
   "execution_count": 10,
   "id": "1428c27d",
   "metadata": {},
   "outputs": [
    {
     "name": "stdout",
     "output_type": "stream",
     "text": [
      "請輸入一串數字：12345\n",
      "反轉為： 54321\n"
     ]
    }
   ],
   "source": [
    "x = input(\"請輸入一串數字：\")\n",
    "y = \"\"\n",
    "index = len(x) - 1\n",
    "\n",
    "while index >= 0:\n",
    "    y += x[index]\n",
    "    index -= 1\n",
    "\n",
    "print(\"反轉為：\",y)"
   ]
  },
  {
   "cell_type": "markdown",
   "id": "4c776208",
   "metadata": {},
   "source": []
  }
 ],
 "metadata": {
  "kernelspec": {
   "display_name": "Python 3 (ipykernel)",
   "language": "python",
   "name": "python3"
  },
  "language_info": {
   "codemirror_mode": {
    "name": "ipython",
    "version": 3
   },
   "file_extension": ".py",
   "mimetype": "text/x-python",
   "name": "python",
   "nbconvert_exporter": "python",
   "pygments_lexer": "ipython3",
   "version": "3.11.4"
  }
 },
 "nbformat": 4,
 "nbformat_minor": 5
}
