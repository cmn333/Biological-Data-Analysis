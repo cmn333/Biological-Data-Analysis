{
 "cells": [
  {
   "cell_type": "markdown",
   "id": "86484636",
   "metadata": {},
   "source": [
    "3."
   ]
  },
  {
   "cell_type": "code",
   "execution_count": null,
   "id": "e434a6fd",
   "metadata": {},
   "outputs": [],
   "source": [
    "get_initials = input(\"請輸入一段英文句子\")\n",
    "a = get_initials.split()\n",
    "s = str(a)\n",
    "for i in s:\n",
    "    b = str(a).capitalize()\n",
    "print(b)"
   ]
  },
  {
   "cell_type": "markdown",
   "id": "90cf9dd7",
   "metadata": {},
   "source": [
    "1."
   ]
  },
  {
   "cell_type": "code",
   "execution_count": null,
   "id": "05a492b1",
   "metadata": {},
   "outputs": [],
   "source": [
    "count = 0\n",
    "b = 0\n",
    "\n",
    "while b <= 10:\n",
    "    count = 5*b*5+10\n",
    "    print(\"從\", 5*b ,\"到\", 5*b+4, \"的和為\",count)\n",
    "    b += 1"
   ]
  },
  {
   "cell_type": "markdown",
   "id": "cc458165",
   "metadata": {},
   "source": [
    "2."
   ]
  },
  {
   "cell_type": "code",
   "execution_count": null,
   "id": "d93a887e",
   "metadata": {},
   "outputs": [],
   "source": [
    "animals = {\"L\":[\"Lion\"], \"D\":[\"Donkey\", \"Deer\", \"Dog\"],\"E\":[\"Elephant\"]} \n",
    "def biggest():\n",
    "    for key in animals:\n",
    "        a = (str(animals[key]))\n",
    "    b = a.count(\"L\")\n",
    "    c = a.count(\"D\")\n",
    "    d = a.count(\"E\")\n",
    "    if b>c and b>d:\n",
    "        print(\"擁有最多值的鍵 : L\")\n",
    "    elif b<c and c>d:\n",
    "        print(\"擁有最多值的鍵 : E\")\n",
    "    else :\n",
    "        print(\"擁有最多值的鍵 : D\")\n",
    "        \n",
    "biggest()"
   ]
  },
  {
   "cell_type": "code",
   "execution_count": null,
   "id": "f57c5a89",
   "metadata": {},
   "outputs": [],
   "source": []
  },
  {
   "cell_type": "code",
   "execution_count": null,
   "id": "ebac25c3",
   "metadata": {},
   "outputs": [],
   "source": []
  },
  {
   "cell_type": "code",
   "execution_count": null,
   "id": "b6955960",
   "metadata": {},
   "outputs": [],
   "source": []
  }
 ],
 "metadata": {
  "kernelspec": {
   "display_name": "Python 3 (ipykernel)",
   "language": "python",
   "name": "python3"
  },
  "language_info": {
   "codemirror_mode": {
    "name": "ipython",
    "version": 3
   },
   "file_extension": ".py",
   "mimetype": "text/x-python",
   "name": "python",
   "nbconvert_exporter": "python",
   "pygments_lexer": "ipython3",
   "version": "3.11.4"
  }
 },
 "nbformat": 4,
 "nbformat_minor": 5
}
