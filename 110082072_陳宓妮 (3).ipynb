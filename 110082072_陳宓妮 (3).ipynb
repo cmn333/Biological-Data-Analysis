{
 "cells": [
  {
   "cell_type": "markdown",
   "id": "86484636",
   "metadata": {},
   "source": [
    "1."
   ]
  },
  {
   "cell_type": "code",
   "execution_count": 1,
   "id": "e434a6fd",
   "metadata": {},
   "outputs": [
    {
     "name": "stdout",
     "output_type": "stream",
     "text": [
      "算數平均數為: 5.222222222222222\n",
      "幾何平均數為: 4.479187323468108\n"
     ]
    }
   ],
   "source": [
    "def X_mean(numbers):\n",
    "    return sum(numbers) / len(numbers)\n",
    "\n",
    "def G_mean(numbers):\n",
    "    result = 1\n",
    "    for num in numbers:\n",
    "        result *= num\n",
    "    return result ** (1 / len(numbers))\n",
    "\n",
    "input = [1, 4, 5, 6, 7, 3, 8, 4, 9]\n",
    "\n",
    "X = X_mean(input)\n",
    "G = G_mean(input)\n",
    "\n",
    "print(f'算數平均數為: {X}')\n",
    "print(f'幾何平均數為: {G}')"
   ]
  },
  {
   "cell_type": "markdown",
   "id": "90cf9dd7",
   "metadata": {},
   "source": [
    "2."
   ]
  },
  {
   "cell_type": "code",
   "execution_count": 2,
   "id": "05a492b1",
   "metadata": {},
   "outputs": [
    {
     "name": "stdout",
     "output_type": "stream",
     "text": [
      "費式數列第 1 的數字為 1\n",
      "費式數列第 2 的數字為 1\n",
      "費式數列第 3 的數字為 2\n",
      "費式數列第 4 的數字為 3\n",
      "費式數列第 5 的數字為 5\n",
      "費式數列第 6 的數字為 8\n",
      "費式數列第 7 的數字為 13\n",
      "費式數列第 8 的數字為 21\n",
      "費式數列第 9 的數字為 34\n",
      "費式數列第 10 的數字為 55\n",
      "費式數列第 11 的數字為 89\n",
      "費式數列第 12 的數字為 144\n",
      "費式數列第 13 的數字為 233\n",
      "費式數列第 14 的數字為 377\n",
      "費式數列第 15 的數字為 610\n"
     ]
    }
   ],
   "source": [
    "def fibo(n):\n",
    "    if n == 1:\n",
    "        return 1\n",
    "    elif n == 2:\n",
    "        return 1\n",
    "    else:\n",
    "        return fibo(n - 1) + fibo(n - 2)\n",
    "\n",
    "for i in range(1, 16):\n",
    "    x = fibo(i)\n",
    "    print(f'費式數列第 {i} 的數字為 {x}')"
   ]
  },
  {
   "cell_type": "code",
   "execution_count": null,
   "id": "135e9b11",
   "metadata": {},
   "outputs": [],
   "source": []
  }
 ],
 "metadata": {
  "kernelspec": {
   "display_name": "Python 3 (ipykernel)",
   "language": "python",
   "name": "python3"
  },
  "language_info": {
   "codemirror_mode": {
    "name": "ipython",
    "version": 3
   },
   "file_extension": ".py",
   "mimetype": "text/x-python",
   "name": "python",
   "nbconvert_exporter": "python",
   "pygments_lexer": "ipython3",
   "version": "3.11.4"
  }
 },
 "nbformat": 4,
 "nbformat_minor": 5
}
