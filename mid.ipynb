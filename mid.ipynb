{
 "cells": [
  {
   "cell_type": "markdown",
   "id": "86484636",
   "metadata": {},
   "source": [
    "1."
   ]
  },
  {
   "cell_type": "code",
   "execution_count": 7,
   "id": "e434a6fd",
   "metadata": {},
   "outputs": [
    {
     "name": "stdout",
     "output_type": "stream",
     "text": [
      "Sum from 0 up to 4 is 10\n",
      "Sum from 5 up to 9 is 35\n",
      "Sum from 10 up to 14 is 60\n",
      "Sum from 15 up to 19 is 85\n",
      "Sum from 20 up to 24 is 110\n",
      "Sum from 25 up to 29 is 135\n",
      "Sum from 30 up to 34 is 160\n",
      "Sum from 35 up to 39 is 185\n",
      "Sum from 40 up to 44 is 210\n",
      "Sum from 45 up to 49 is 235\n"
     ]
    }
   ],
   "source": [
    "x = 0\n",
    "y = 0\n",
    "sum = 0\n",
    "\n",
    "while x <= 50:\n",
    "    sum += x\n",
    "    y += 1\n",
    "    if y == 5:\n",
    "        print(f\"Sum from {x-4} up to {x} is {sum}\")\n",
    "        sum = 0\n",
    "        y = 0\n",
    "    x += 1"
   ]
  },
  {
   "cell_type": "markdown",
   "id": "90cf9dd7",
   "metadata": {},
   "source": [
    "2."
   ]
  },
  {
   "cell_type": "code",
   "execution_count": 9,
   "id": "05a492b1",
   "metadata": {},
   "outputs": [
    {
     "name": "stdout",
     "output_type": "stream",
     "text": [
      "The key with the most values is: D\n"
     ]
    }
   ],
   "source": [
    "def biggest(animals):\n",
    "    x = 0\n",
    "    max_key = None\n",
    "\n",
    "    for key, value in animals.items():\n",
    "        if len(value) > x:\n",
    "            max_key = key\n",
    "            x = len(value)\n",
    "\n",
    "    return max_key\n",
    "\n",
    "# 測試函式\n",
    "animals = {\"L\": [\"Lion\"], \"D\": [\"Donkey\", \"Deer\", \"Dog\"], \"E\": [\"Elephant\"]}\n",
    "print(f\"The key with the most values is: {biggest(animals)}\")"
   ]
  },
  {
   "cell_type": "markdown",
   "id": "cc458165",
   "metadata": {},
   "source": [
    "3."
   ]
  },
  {
   "cell_type": "code",
   "execution_count": 10,
   "id": "d93a887e",
   "metadata": {},
   "outputs": [
    {
     "name": "stdout",
     "output_type": "stream",
     "text": [
      "Initial letters are: ASAP\n"
     ]
    }
   ],
   "source": [
    "x = input(\"Please enter an English sentence: \")\n",
    "\n",
    "def get_initials(input_sentence):\n",
    "    words = input_sentence.split()\n",
    "    initial = [word[0].upper() for word in words]\n",
    "    return ''.join(initial)\n",
    "\n",
    "print(f\"Initial letters are: {get_initials(x)}\")"
   ]
  },
  {
   "cell_type": "markdown",
   "id": "f57c5a89",
   "metadata": {},
   "source": [
    "4."
   ]
  },
  {
   "cell_type": "code",
   "execution_count": 32,
   "id": "ebac25c3",
   "metadata": {},
   "outputs": [
    {
     "name": "stdout",
     "output_type": "stream",
     "text": [
      "     *\n",
      "    ***\n",
      "   *****\n",
      "  *******\n",
      "     *\n",
      "    ***\n",
      "   *****\n",
      "  *******\n",
      " *********\n",
      "***********\n",
      "    ***\n",
      "    ***\n",
      "    ***\n",
      "    ***\n",
      "    ***\n",
      "    ***\n"
     ]
    }
   ],
   "source": [
    "h1 = 4\n",
    "w1 = 7\n",
    "h2 = 6\n",
    "w2 = 11\n",
    "\n",
    "for i in range(1, h1 + 1):\n",
    "    spaces = h1 - i + 2\n",
    "    stars = 2 * i - 1\n",
    "    print(\" \" * spaces + \"*\" * stars)\n",
    "    \n",
    "for j in range(1, h2 + 1):\n",
    "    spaces = h2 - j\n",
    "    stars = 2 * j - 1\n",
    "    print(\" \" * spaces + \"*\" * stars)\n",
    "\n",
    "trunk_spaces = (w2 - 2) // 2\n",
    "for k in range(6):\n",
    "    print(\" \" * trunk_spaces + \"***\")"
   ]
  },
  {
   "cell_type": "markdown",
   "id": "b6955960",
   "metadata": {},
   "source": [
    "5."
   ]
  },
  {
   "cell_type": "code",
   "execution_count": 36,
   "id": "711cd08f",
   "metadata": {},
   "outputs": [
    {
     "name": "stdout",
     "output_type": "stream",
     "text": [
      "6\n"
     ]
    }
   ],
   "source": [
    "def water():\n",
    "    h = input(\"Enter the heights and separate by spaces: \")\n",
    "    h = list(map(int, h.split()))\n",
    "    \n",
    "    if not h:\n",
    "        return 0\n",
    "    \n",
    "    total = 0\n",
    "    n = len(h)\n",
    "    left_max = [0] * n\n",
    "    right_max = [0] * n\n",
    "    left_max[0] = h[0]\n",
    "    right_max[n - 1] = h[n - 1]\n",
    "    \n",
    "    # from left to right\n",
    "    for i in range(1, n):\n",
    "        left_max[i] = max(left_max[i - 1], h[i])\n",
    "        \n",
    "    # from right to left\n",
    "    for i in range(n - 2, -1, -1):\n",
    "        right_max[i] = max(right_max[i + 1], h[i])\n",
    "    \n",
    "    # search each location\n",
    "    for i in range(n):\n",
    "        total += max(0, min(left_max[i], right_max[i]) - h[i])\n",
    "    \n",
    "    return total\n",
    "\n",
    "print(water())"
   ]
  }
 ],
 "metadata": {
  "kernelspec": {
   "display_name": "Python 3 (ipykernel)",
   "language": "python",
   "name": "python3"
  },
  "language_info": {
   "codemirror_mode": {
    "name": "ipython",
    "version": 3
   },
   "file_extension": ".py",
   "mimetype": "text/x-python",
   "name": "python",
   "nbconvert_exporter": "python",
   "pygments_lexer": "ipython3",
   "version": "3.10.11"
  }
 },
 "nbformat": 4,
 "nbformat_minor": 5
}
